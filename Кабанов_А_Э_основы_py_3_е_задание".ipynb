{
  "nbformat": 4,
  "nbformat_minor": 0,
  "metadata": {
    "colab": {
      "provenance": [],
      "include_colab_link": true
    },
    "kernelspec": {
      "name": "python3",
      "display_name": "Python 3"
    },
    "language_info": {
      "name": "python"
    }
  },
  "cells": [
    {
      "cell_type": "markdown",
      "metadata": {
        "id": "view-in-github",
        "colab_type": "text"
      },
      "source": [
        "<a href=\"https://colab.research.google.com/github/pan-aleksij/MEPHI_/blob/Basics_python/%D0%9A%D0%B0%D0%B1%D0%B0%D0%BD%D0%BE%D0%B2_%D0%90_%D0%AD_%D0%BE%D1%81%D0%BD%D0%BE%D0%B2%D1%8B_py_3_%D0%B5_%D0%B7%D0%B0%D0%B4%D0%B0%D0%BD%D0%B8%D0%B5%22.ipynb\" target=\"_parent\"><img src=\"https://colab.research.google.com/assets/colab-badge.svg\" alt=\"Open In Colab\"/></a>"
      ]
    },
    {
      "cell_type": "code",
      "execution_count": null,
      "metadata": {
        "id": "MXXTuy_o0sjk",
        "colab": {
          "base_uri": "https://localhost:8080/"
        },
        "outputId": "a4c0ac70-7fd3-4284-fd44-d6bf8929d754"
      },
      "outputs": [
        {
          "output_type": "stream",
          "name": "stdout",
          "text": [
            "  Preparing metadata (setup.py) ... \u001b[?25l\u001b[?25hdone\n",
            "\u001b[2K   \u001b[90m━━━━━━━━━━━━━━━━━━━━━━━━━━━━━━━━━━━━━━━━\u001b[0m \u001b[32m1.4/1.4 MB\u001b[0m \u001b[31m7.3 MB/s\u001b[0m eta \u001b[36m0:00:00\u001b[0m\n",
            "\u001b[2K   \u001b[90m━━━━━━━━━━━━━━━━━━━━━━━━━━━━━━━━━━━━━━━━\u001b[0m \u001b[32m953.8/953.8 kB\u001b[0m \u001b[31m13.6 MB/s\u001b[0m eta \u001b[36m0:00:00\u001b[0m\n",
            "\u001b[2K   \u001b[90m━━━━━━━━━━━━━━━━━━━━━━━━━━━━━━━━━━━━━━━━\u001b[0m \u001b[32m840.2/840.2 kB\u001b[0m \u001b[31m12.2 MB/s\u001b[0m eta \u001b[36m0:00:00\u001b[0m\n",
            "\u001b[2K   \u001b[90m━━━━━━━━━━━━━━━━━━━━━━━━━━━━━━━━━━━━━━━━\u001b[0m \u001b[32m178.7/178.7 kB\u001b[0m \u001b[31m7.0 MB/s\u001b[0m eta \u001b[36m0:00:00\u001b[0m\n",
            "\u001b[?25h  Building wheel for Chessnut (setup.py) ... \u001b[?25l\u001b[?25hdone\n"
          ]
        }
      ],
      "source": [
        "!pip install -q -U kaggle_environments"
      ]
    },
    {
      "cell_type": "code",
      "source": [
        "import numpy as np\n",
        "import pandas as pd\n",
        "import random\n",
        "\n",
        "import matplotlib.pyplot as plt\n",
        "import seaborn as sns\n",
        "\n",
        "from kaggle_environments import make, evaluate"
      ],
      "metadata": {
        "id": "yz23vWHD0wcj",
        "colab": {
          "base_uri": "https://localhost:8080/"
        },
        "outputId": "7be1e5b0-b2f9-4923-9daa-93a7c6a4b61d"
      },
      "execution_count": null,
      "outputs": [
        {
          "output_type": "stream",
          "name": "stderr",
          "text": [
            "/usr/local/lib/python3.10/dist-packages/pygame/pkgdata.py:25: DeprecationWarning: pkg_resources is deprecated as an API. See https://setuptools.pypa.io/en/latest/pkg_resources.html\n",
            "  from pkg_resources import resource_stream, resource_exists\n",
            "/usr/local/lib/python3.10/dist-packages/pkg_resources/__init__.py:3154: DeprecationWarning: Deprecated call to `pkg_resources.declare_namespace('google')`.\n",
            "Implementing implicit namespace packages (as specified in PEP 420) is preferred to `pkg_resources.declare_namespace`. See https://setuptools.pypa.io/en/latest/references/keywords.html#keyword-namespace-packages\n",
            "  declare_namespace(pkg)\n",
            "/usr/local/lib/python3.10/dist-packages/pkg_resources/__init__.py:3154: DeprecationWarning: Deprecated call to `pkg_resources.declare_namespace('google.cloud')`.\n",
            "Implementing implicit namespace packages (as specified in PEP 420) is preferred to `pkg_resources.declare_namespace`. See https://setuptools.pypa.io/en/latest/references/keywords.html#keyword-namespace-packages\n",
            "  declare_namespace(pkg)\n",
            "/usr/local/lib/python3.10/dist-packages/pkg_resources/__init__.py:3154: DeprecationWarning: Deprecated call to `pkg_resources.declare_namespace('sphinxcontrib')`.\n",
            "Implementing implicit namespace packages (as specified in PEP 420) is preferred to `pkg_resources.declare_namespace`. See https://setuptools.pypa.io/en/latest/references/keywords.html#keyword-namespace-packages\n",
            "  declare_namespace(pkg)\n",
            "/usr/local/lib/python3.10/dist-packages/tensorflow/lite/python/util.py:55: DeprecationWarning: jax.xla_computation is deprecated. Please use the AOT APIs; see https://jax.readthedocs.io/en/latest/aot.html. For example, replace xla_computation(f)(*xs) with jit(f).lower(*xs).compiler_ir('hlo'). See CHANGELOG.md for 0.4.30 for more examples.\n",
            "  from jax import xla_computation as _xla_computation\n"
          ]
        }
      ]
    },
    {
      "cell_type": "markdown",
      "source": [
        "Опишем поведение агента, всегда играющего \"камень\" - это значение 0"
      ],
      "metadata": {
        "id": "0kuo6IOxiRub"
      }
    },
    {
      "cell_type": "code",
      "source": [
        "%%writefile rock_agent.py\n",
        "\n",
        "#Example of the simple agent\n",
        "#0 - rock\n",
        "#1 - paper\n",
        "#2 - scissors\n",
        "def your_agent(observation, configuration):\n",
        "    return 0"
      ],
      "metadata": {
        "id": "bqTqV7B92rJ6",
        "colab": {
          "base_uri": "https://localhost:8080/"
        },
        "outputId": "a35c49fe-5fba-4267-d755-2b12fd74a500"
      },
      "execution_count": null,
      "outputs": [
        {
          "output_type": "stream",
          "name": "stdout",
          "text": [
            "Writing rock_agent.py\n"
          ]
        },
        {
          "output_type": "stream",
          "name": "stderr",
          "text": [
            "/usr/local/lib/python3.10/dist-packages/ipykernel/ipkernel.py:283: DeprecationWarning: `should_run_async` will not call `transform_cell` automatically in the future. Please pass the result to `transformed_cell` argument and any exception that happen during thetransform in `preprocessing_exc_tuple` in IPython 7.17 and above.\n",
            "  and should_run_async(code)\n"
          ]
        }
      ]
    },
    {
      "cell_type": "markdown",
      "source": [
        "Попробуем теперь использовать информацию о прошлых действиях противника. Опишем агента, который производит то же самое действие, что и оппонент на прошлом ходу"
      ],
      "metadata": {
        "id": "et1J5hUGigeh"
      }
    },
    {
      "cell_type": "code",
      "source": [
        "%%writefile copy_opponent.py\n",
        "\n",
        "#Example\n",
        "def copy_opponent(observation, configuration):\n",
        "    #in case we have information about opponent last move\n",
        "    if observation.step > 0:\n",
        "        return observation.lastOpponentAction\n",
        "    #initial step\n",
        "    else:\n",
        "        return random.randrange(0, configuration.signs)"
      ],
      "metadata": {
        "id": "7l6Ttw6qi0jk",
        "colab": {
          "base_uri": "https://localhost:8080/"
        },
        "outputId": "f78514d2-a817-4ba1-ecc6-a4584ab7ea01"
      },
      "execution_count": null,
      "outputs": [
        {
          "output_type": "stream",
          "name": "stdout",
          "text": [
            "Writing copy_opponent.py\n"
          ]
        }
      ]
    },
    {
      "cell_type": "markdown",
      "source": [
        "Создаю агентов"
      ],
      "metadata": {
        "id": "Z7h2-G1ci8yl"
      }
    },
    {
      "cell_type": "code",
      "source": [
        "# Создаем агентов\n",
        "#Example of the simple agent\n",
        "#0 - rock\n",
        "#1 - paper\n",
        "#2 - scissors\n",
        "import random\n",
        "# Выбирает только камень\n",
        "def rock_agent(observation, configuration):\n",
        "    return 0\n",
        "\n",
        "# Выбирает только бумагу\n",
        "def paper_agent(observation, configuration):\n",
        "    return 1\n",
        "\n",
        "# Выбирает только ножницы\n",
        "def scissors_agent(observation, configuration):\n",
        "    return 2\n",
        "\n",
        "# Выбирает случаянный результат\n",
        "def random_agent(observation, configuration):\n",
        "    return random.choice([0, 1, 2])\n",
        "\n",
        "# Повторяет последний результат оппонента\n",
        "def copy_opponent_agent(observation, configuration):\n",
        "    if observation.get('step', 0) > 0:\n",
        "        return observation.get('lastOpponentAction', 0)\n",
        "    else:\n",
        "        return random.choice([0, 1, 2])\n",
        "\n",
        "# Повторяет послений результат и бъет его\n",
        "def beat_last_agent(observation, configuration):\n",
        "    if observation.get('step', 0) > 0:\n",
        "        return (observation.get('lastOpponentAction', 0) + 1) % 3\n",
        "    else:\n",
        "        return random.choice([0, 1, 2])\n",
        "\n",
        "# Смешанная стратегия с уклоном в камень\n",
        "def mixed_strategy_agent_rock(observation, configuration):\n",
        "    mixed_choices = [0, 0, 0, 1, 1, 2]\n",
        "    return random.choice(mixed_choices)\n",
        "\n",
        "# Смешанная стратегия с уклоном в бумагу\n",
        "def mixed_strategy_agent_paper(observation, configuration):\n",
        "    mixed_choices = [0, 0, 1, 1, 1, 2, 2]\n",
        "    return random.choice(mixed_choices)\n",
        "\n",
        "# Смешанная стратегия с уклоном в ножницы\n",
        "def mixed_strategy_agent_scissors(observation, configuration):\n",
        "    mixed_choices = [0, 0, 1, 1, 2, 2, 2, 2]\n",
        "    return random.choice(mixed_choices)\n",
        "\n",
        "# Агент, который циклически выбирает ходы (камень, бумага, ножницы).\n",
        "def cycle_agent(observation, configuration):\n",
        "    if observation.get('step', 0) == 0:\n",
        "        return 0\n",
        "    else:\n",
        "        return (observation.get('lastOpponentAction', 0) + 1) % 3\n",
        "\n",
        "# Агент, который выбирает ход, который бьет наиболее часто используемый противником ход.\n",
        "def beat_frequency_agent(observation, configuration):\n",
        "    if observation.get('step', 0) > 0:\n",
        "        counts = [0, 0, 0]\n",
        "        for action in observation.get('history', []):\n",
        "            counts[action] += 1\n",
        "        return (counts.index(max(counts)) + 1) % 3\n",
        "    else:\n",
        "        return random.choice([0, 1, 2])\n",
        "\n",
        "# Вбирает только ножницы или камень\n",
        "def only_rock_scissors(observation, configuration):\n",
        "    mixed_choices = [0, 0, 2, 2, 2, 2]\n",
        "    return random.choice(mixed_choices)\n",
        "\n",
        "# Если оппонент использует повторяющийся цикл, то он его будет бить\n",
        "def anti_cycle_agent(observation, configuration):\n",
        "    if observation.get('step', 0) > 0:\n",
        "        return (observation.get('lastOpponentAction', 0) + 2) % 3\n",
        "    else:\n",
        "        return random.choice([0, 1, 2])"
      ],
      "metadata": {
        "id": "7P__IYQEjDFu"
      },
      "execution_count": null,
      "outputs": []
    },
    {
      "cell_type": "markdown",
      "source": [
        "Объявляю список агентов"
      ],
      "metadata": {
        "id": "7Pgox2BkjH6D"
      }
    },
    {
      "cell_type": "code",
      "source": [
        "# Список агентов\n",
        "agents = [\n",
        "    rock_agent,\n",
        "    paper_agent,\n",
        "    scissors_agent,\n",
        "    random_agent,\n",
        "    copy_opponent_agent,\n",
        "    beat_last_agent,\n",
        "    mixed_strategy_agent_rock,\n",
        "    mixed_strategy_agent_paper,\n",
        "    mixed_strategy_agent_scissors,\n",
        "    cycle_agent,\n",
        "    beat_frequency_agent,\n",
        "    only_rock_scissors,\n",
        "    anti_cycle_agent\n",
        "]"
      ],
      "metadata": {
        "id": "-evp5CjojMe_"
      },
      "execution_count": null,
      "outputs": []
    },
    {
      "cell_type": "markdown",
      "source": [
        "Запуск турнира и вывод информации о них"
      ],
      "metadata": {
        "id": "RZsI5-0YjNfP"
      }
    },
    {
      "cell_type": "code",
      "source": [
        "\n",
        "from kaggle_environments import make, evaluate\n",
        "from collections import defaultdict\n",
        "\n",
        "# Запуск турнира\n",
        "results = []\n",
        "for i in range(len(agents)):\n",
        "    for j in range(i + 1, len(agents)):\n",
        "        agent1 = agents[i]\n",
        "        agent2 = agents[j]\n",
        "        match_result = evaluate(\n",
        "            \"rps\",  # environment to use\n",
        "            [agent1, agent2],  # agents to evaluate\n",
        "            configuration={\"episodeSteps\": 100}  # number of episodes\n",
        "        )\n",
        "        results.append((agent1.__name__, agent2.__name__, match_result))\n",
        "\n",
        "# Вывод результатов\n",
        "print(f'Результаты турниров:')\n",
        "for result in results:\n",
        "    print(f\"Agent 1: {result[0]}, Agent 2: {result[1]}, Result: {result[2]}\")\n",
        "print('-' * 40)"
      ],
      "metadata": {
        "colab": {
          "base_uri": "https://localhost:8080/"
        },
        "id": "sVW759W1jUJm",
        "outputId": "79ab3c36-1abe-4998-cb43-d05a625ff6d2"
      },
      "execution_count": null,
      "outputs": [
        {
          "output_type": "stream",
          "name": "stdout",
          "text": [
            "Результаты турниров:\n",
            "Agent 1: rock_agent, Agent 2: paper_agent, Result: [[-99.0, 99.0]]\n",
            "Agent 1: rock_agent, Agent 2: scissors_agent, Result: [[99.0, -99.0]]\n",
            "Agent 1: rock_agent, Agent 2: random_agent, Result: [[0, 0]]\n",
            "Agent 1: rock_agent, Agent 2: copy_opponent_agent, Result: [[0, 0]]\n",
            "Agent 1: rock_agent, Agent 2: beat_last_agent, Result: [[-98.0, 98.0]]\n",
            "Agent 1: rock_agent, Agent 2: mixed_strategy_agent_rock, Result: [[0, 0]]\n",
            "Agent 1: rock_agent, Agent 2: mixed_strategy_agent_paper, Result: [[0, 0]]\n",
            "Agent 1: rock_agent, Agent 2: mixed_strategy_agent_scissors, Result: [[43.0, -43.0]]\n",
            "Agent 1: rock_agent, Agent 2: cycle_agent, Result: [[-98.0, 98.0]]\n",
            "Agent 1: rock_agent, Agent 2: beat_frequency_agent, Result: [[-99.0, 99.0]]\n",
            "Agent 1: rock_agent, Agent 2: only_rock_scissors, Result: [[62.0, -62.0]]\n",
            "Agent 1: rock_agent, Agent 2: anti_cycle_agent, Result: [[98.0, -98.0]]\n",
            "Agent 1: paper_agent, Agent 2: scissors_agent, Result: [[-99.0, 99.0]]\n",
            "Agent 1: paper_agent, Agent 2: random_agent, Result: [[0, 0]]\n",
            "Agent 1: paper_agent, Agent 2: copy_opponent_agent, Result: [[0, 0]]\n",
            "Agent 1: paper_agent, Agent 2: beat_last_agent, Result: [[-97.0, 97.0]]\n",
            "Agent 1: paper_agent, Agent 2: mixed_strategy_agent_rock, Result: [[44.0, -44.0]]\n",
            "Agent 1: paper_agent, Agent 2: mixed_strategy_agent_paper, Result: [[0, 0]]\n",
            "Agent 1: paper_agent, Agent 2: mixed_strategy_agent_scissors, Result: [[-31.0, 31.0]]\n",
            "Agent 1: paper_agent, Agent 2: cycle_agent, Result: [[-97.0, 97.0]]\n",
            "Agent 1: paper_agent, Agent 2: beat_frequency_agent, Result: [[0, 0]]\n",
            "Agent 1: paper_agent, Agent 2: only_rock_scissors, Result: [[-41.0, 41.0]]\n",
            "Agent 1: paper_agent, Agent 2: anti_cycle_agent, Result: [[99.0, -99.0]]\n",
            "Agent 1: scissors_agent, Agent 2: random_agent, Result: [[0, 0]]\n",
            "Agent 1: scissors_agent, Agent 2: copy_opponent_agent, Result: [[0, 0]]\n",
            "Agent 1: scissors_agent, Agent 2: beat_last_agent, Result: [[-98.0, 98.0]]\n",
            "Agent 1: scissors_agent, Agent 2: mixed_strategy_agent_rock, Result: [[-31.0, 31.0]]\n",
            "Agent 1: scissors_agent, Agent 2: mixed_strategy_agent_paper, Result: [[0, 0]]\n",
            "Agent 1: scissors_agent, Agent 2: mixed_strategy_agent_scissors, Result: [[0, 0]]\n",
            "Agent 1: scissors_agent, Agent 2: cycle_agent, Result: [[-99.0, 99.0]]\n",
            "Agent 1: scissors_agent, Agent 2: beat_frequency_agent, Result: [[98.0, -98.0]]\n",
            "Agent 1: scissors_agent, Agent 2: only_rock_scissors, Result: [[-37.0, 37.0]]\n",
            "Agent 1: scissors_agent, Agent 2: anti_cycle_agent, Result: [[98.0, -98.0]]\n",
            "Agent 1: random_agent, Agent 2: copy_opponent_agent, Result: [[0, 0]]\n",
            "Agent 1: random_agent, Agent 2: beat_last_agent, Result: [[0, 0]]\n",
            "Agent 1: random_agent, Agent 2: mixed_strategy_agent_rock, Result: [[0, 0]]\n",
            "Agent 1: random_agent, Agent 2: mixed_strategy_agent_paper, Result: [[0, 0]]\n",
            "Agent 1: random_agent, Agent 2: mixed_strategy_agent_scissors, Result: [[0, 0]]\n",
            "Agent 1: random_agent, Agent 2: cycle_agent, Result: [[0, 0]]\n",
            "Agent 1: random_agent, Agent 2: beat_frequency_agent, Result: [[0, 0]]\n",
            "Agent 1: random_agent, Agent 2: only_rock_scissors, Result: [[0, 0]]\n",
            "Agent 1: random_agent, Agent 2: anti_cycle_agent, Result: [[0, 0]]\n",
            "Agent 1: copy_opponent_agent, Agent 2: beat_last_agent, Result: [[99.0, -99.0]]\n",
            "Agent 1: copy_opponent_agent, Agent 2: mixed_strategy_agent_rock, Result: [[0, 0]]\n",
            "Agent 1: copy_opponent_agent, Agent 2: mixed_strategy_agent_paper, Result: [[0, 0]]\n",
            "Agent 1: copy_opponent_agent, Agent 2: mixed_strategy_agent_scissors, Result: [[0, 0]]\n",
            "Agent 1: copy_opponent_agent, Agent 2: cycle_agent, Result: [[-50.0, 50.0]]\n",
            "Agent 1: copy_opponent_agent, Agent 2: beat_frequency_agent, Result: [[0, 0]]\n",
            "Agent 1: copy_opponent_agent, Agent 2: only_rock_scissors, Result: [[0, 0]]\n",
            "Agent 1: copy_opponent_agent, Agent 2: anti_cycle_agent, Result: [[49.0, -49.0]]\n",
            "Agent 1: beat_last_agent, Agent 2: mixed_strategy_agent_rock, Result: [[0, 0]]\n",
            "Agent 1: beat_last_agent, Agent 2: mixed_strategy_agent_paper, Result: [[0, 0]]\n",
            "Agent 1: beat_last_agent, Agent 2: mixed_strategy_agent_scissors, Result: [[0, 0]]\n",
            "Agent 1: beat_last_agent, Agent 2: cycle_agent, Result: [[0, 0]]\n",
            "Agent 1: beat_last_agent, Agent 2: beat_frequency_agent, Result: [[97.0, -97.0]]\n",
            "Agent 1: beat_last_agent, Agent 2: only_rock_scissors, Result: [[28.0, -28.0]]\n",
            "Agent 1: beat_last_agent, Agent 2: anti_cycle_agent, Result: [[-50.0, 50.0]]\n",
            "Agent 1: mixed_strategy_agent_rock, Agent 2: mixed_strategy_agent_paper, Result: [[0, 0]]\n",
            "Agent 1: mixed_strategy_agent_rock, Agent 2: mixed_strategy_agent_scissors, Result: [[0, 0]]\n",
            "Agent 1: mixed_strategy_agent_rock, Agent 2: cycle_agent, Result: [[0, 0]]\n",
            "Agent 1: mixed_strategy_agent_rock, Agent 2: beat_frequency_agent, Result: [[-40.0, 40.0]]\n",
            "Agent 1: mixed_strategy_agent_rock, Agent 2: only_rock_scissors, Result: [[0, 0]]\n",
            "Agent 1: mixed_strategy_agent_rock, Agent 2: anti_cycle_agent, Result: [[0, 0]]\n",
            "Agent 1: mixed_strategy_agent_paper, Agent 2: mixed_strategy_agent_scissors, Result: [[0, 0]]\n",
            "Agent 1: mixed_strategy_agent_paper, Agent 2: cycle_agent, Result: [[0, 0]]\n",
            "Agent 1: mixed_strategy_agent_paper, Agent 2: beat_frequency_agent, Result: [[0, 0]]\n",
            "Agent 1: mixed_strategy_agent_paper, Agent 2: only_rock_scissors, Result: [[0, 0]]\n",
            "Agent 1: mixed_strategy_agent_paper, Agent 2: anti_cycle_agent, Result: [[0, 0]]\n",
            "Agent 1: mixed_strategy_agent_scissors, Agent 2: cycle_agent, Result: [[0, 0]]\n",
            "Agent 1: mixed_strategy_agent_scissors, Agent 2: beat_frequency_agent, Result: [[31.0, -31.0]]\n",
            "Agent 1: mixed_strategy_agent_scissors, Agent 2: only_rock_scissors, Result: [[0, 0]]\n",
            "Agent 1: mixed_strategy_agent_scissors, Agent 2: anti_cycle_agent, Result: [[0, 0]]\n",
            "Agent 1: cycle_agent, Agent 2: beat_frequency_agent, Result: [[97.0, -97.0]]\n",
            "Agent 1: cycle_agent, Agent 2: only_rock_scissors, Result: [[51.0, -51.0]]\n",
            "Agent 1: cycle_agent, Agent 2: anti_cycle_agent, Result: [[99.0, -99.0]]\n",
            "Agent 1: beat_frequency_agent, Agent 2: only_rock_scissors, Result: [[-39.0, 39.0]]\n",
            "Agent 1: beat_frequency_agent, Agent 2: anti_cycle_agent, Result: [[98.0, -98.0]]\n",
            "Agent 1: only_rock_scissors, Agent 2: anti_cycle_agent, Result: [[25.0, -25.0]]\n",
            "----------------------------------------\n"
          ]
        }
      ]
    },
    {
      "cell_type": "code",
      "source": [
        "# Подсчет результатов\n",
        "agent_scores = defaultdict(lambda: {\"wins\": 0, \"losses\": 0, \"draws\": 0})\n",
        "\n",
        "for result in results:\n",
        "    agent1_name = result[0]\n",
        "    agent2_name = result[1]\n",
        "    match_result = result[2][0]\n",
        "\n",
        "    if match_result[0] > match_result[1]:\n",
        "        agent_scores[agent1_name][\"wins\"] += 1\n",
        "        agent_scores[agent2_name][\"losses\"] += 1\n",
        "    elif match_result[0] < match_result[1]:\n",
        "        agent_scores[agent1_name][\"losses\"] += 1\n",
        "        agent_scores[agent2_name][\"wins\"] += 1\n",
        "    else:\n",
        "        agent_scores[agent1_name][\"draws\"] += 1\n",
        "        agent_scores[agent2_name][\"draws\"] += 1\n",
        "\n",
        "# Вывод результатов\n",
        "print(f'Результаты матчей:')\n",
        "for agent, scores in agent_scores.items():\n",
        "    print(f\"Agent: {agent}, Wins: {scores['wins']}, Losses: {scores['losses']}, Draws: {scores['draws']}\")\n",
        "print('-' * 40)"
      ],
      "metadata": {
        "colab": {
          "base_uri": "https://localhost:8080/"
        },
        "id": "YxHPs7wYjVzW",
        "outputId": "e88f8350-9bf8-4c37-f267-e74627c39ead"
      },
      "execution_count": null,
      "outputs": [
        {
          "output_type": "stream",
          "name": "stdout",
          "text": [
            "Результаты матчей:\n",
            "Agent: rock_agent, Wins: 4, Losses: 4, Draws: 4\n",
            "Agent: paper_agent, Wins: 3, Losses: 5, Draws: 4\n",
            "Agent: scissors_agent, Wins: 3, Losses: 5, Draws: 4\n",
            "Agent: random_agent, Wins: 0, Losses: 0, Draws: 12\n",
            "Agent: copy_opponent_agent, Wins: 2, Losses: 1, Draws: 9\n",
            "Agent: beat_last_agent, Wins: 5, Losses: 2, Draws: 5\n",
            "Agent: mixed_strategy_agent_rock, Wins: 1, Losses: 2, Draws: 9\n",
            "Agent: mixed_strategy_agent_paper, Wins: 0, Losses: 0, Draws: 12\n",
            "Agent: mixed_strategy_agent_scissors, Wins: 2, Losses: 1, Draws: 9\n",
            "Agent: cycle_agent, Wins: 7, Losses: 0, Draws: 5\n",
            "Agent: beat_frequency_agent, Wins: 3, Losses: 5, Draws: 4\n",
            "Agent: only_rock_scissors, Wins: 4, Losses: 3, Draws: 5\n",
            "Agent: anti_cycle_agent, Wins: 1, Losses: 7, Draws: 4\n",
            "----------------------------------------\n"
          ]
        }
      ]
    }
  ]
}